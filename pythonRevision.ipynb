{
  "cells": [
    {
      "cell_type": "markdown",
      "metadata": {
        "id": "view-in-github",
        "colab_type": "text"
      },
      "source": [
        "<a href=\"https://colab.research.google.com/github/muhammadhashim2133/Linux-summey/blob/main/pythonRevision.ipynb\" target=\"_parent\"><img src=\"https://colab.research.google.com/assets/colab-badge.svg\" alt=\"Open In Colab\"/></a>"
      ]
    },
    {
      "cell_type": "markdown",
      "metadata": {
        "id": "hycHJ0hRgOmF"
      },
      "source": [
        "# **Function**"
      ]
    },
    {
      "cell_type": "code",
      "execution_count": null,
      "metadata": {
        "colab": {
          "base_uri": "https://localhost:8080/"
        },
        "id": "MWCblAXByqKi",
        "outputId": "01db6295-5c9f-4b10-93c3-72bbaaed072c"
      },
      "outputs": [
        {
          "name": "stdout",
          "output_type": "stream",
          "text": [
            "pakistan\n",
            "zindabad\n"
          ]
        }
      ],
      "source": [
        "print(\"pakistan\")\n",
        "print(\"zindabad\")   #ctr+shift+spaceBar to check funtion sigsnature  #print(value, ..., sep=' ', end='\\n', file=sys.stdout, flush=False)"
      ]
    },
    {
      "cell_type": "code",
      "execution_count": null,
      "metadata": {
        "colab": {
          "base_uri": "https://localhost:8080/"
        },
        "id": "ifXTHtC0fmB8",
        "outputId": "285576d6-bc48-4465-fe34-a63e4e53d6fb"
      },
      "outputs": [
        {
          "name": "stdout",
          "output_type": "stream",
          "text": [
            "pakistan zindabad\n",
            "pakistan#zindabadpakistan zindabad\n"
          ]
        }
      ],
      "source": [
        "print(\"pakistan\",\"zindabad\")\n",
        "print(\"pakistan\",\"zindabad\", sep=\"#\",end=\"\")\n",
        "print(\"pakistan\",\"zindabad\")"
      ]
    },
    {
      "cell_type": "markdown",
      "metadata": {
        "id": "YL2uyJL_itW3"
      },
      "source": [
        "# **Veriable**"
      ]
    },
    {
      "cell_type": "code",
      "execution_count": null,
      "metadata": {
        "id": "uwMjByMlg29U"
      },
      "outputs": [],
      "source": [
        "a=10 # a is identifier  = is assignment and 10 is data"
      ]
    },
    {
      "cell_type": "markdown",
      "metadata": {
        "id": "NPdKjomGjS6U"
      },
      "source": [
        "# **Operators**"
      ]
    },
    {
      "cell_type": "code",
      "execution_count": null,
      "metadata": {
        "id": "JJwrkMwyjSpT"
      },
      "outputs": [],
      "source": [
        " # +,-,*,/"
      ]
    },
    {
      "cell_type": "code",
      "execution_count": null,
      "metadata": {
        "colab": {
          "base_uri": "https://localhost:8080/"
        },
        "id": "vzP5sm88jQ68",
        "outputId": "5374e55e-ad02-426d-e872-7067a2143a37"
      },
      "outputs": [
        {
          "name": "stdout",
          "output_type": "stream",
          "text": [
            "12.5\n",
            "12\n",
            "5.0\n",
            "5\n"
          ]
        }
      ],
      "source": [
        "a=10\n",
        "d=2\n",
        "b=2.5\n",
        "c=a+b\n",
        "e=a+d\n",
        "print(c)   # if one value is floating point anss will be floating\n",
        "print(e)\n",
        "print(a/d) # it always give floating point division by default\n",
        "print(a//d) # // give integer division"
      ]
    },
    {
      "cell_type": "markdown",
      "metadata": {
        "id": "PYfxTfIdmvjJ"
      },
      "source": [
        "# **if elif else**"
      ]
    },
    {
      "cell_type": "code",
      "execution_count": null,
      "metadata": {
        "colab": {
          "base_uri": "https://localhost:8080/"
        },
        "id": "zk-rIgJ9m2Pp",
        "outputId": "c9d8f2df-0063-4f76-e037-7b0464e60a68"
      },
      "outputs": [
        {
          "name": "stdout",
          "output_type": "stream",
          "text": [
            "its correct\n",
            "hello\n"
          ]
        }
      ],
      "source": [
        "a=10\n",
        "b=20\n",
        "\n",
        "if a<b:\n",
        "  print(\"its correct\")  #if condition is true this block will execute\n",
        "print(\"hello\")          #if the block is not indent it always execute either condition is true or false"
      ]
    },
    {
      "cell_type": "markdown",
      "metadata": {
        "id": "tUTjmY-ypYnt"
      },
      "source": [
        "**bold text**# **Input**"
      ]
    },
    {
      "cell_type": "code",
      "execution_count": null,
      "metadata": {
        "colab": {
          "base_uri": "https://localhost:8080/"
        },
        "id": "_G1FjFEepTRU",
        "outputId": "374af6c3-34f6-41a1-dbad-c3aeaf516552"
      },
      "outputs": [
        {
          "name": "stdout",
          "output_type": "stream",
          "text": [
            "write any number: 8\n",
            "8\n"
          ]
        },
        {
          "data": {
            "text/plain": [
              "str"
            ]
          },
          "execution_count": 22,
          "metadata": {},
          "output_type": "execute_result"
        }
      ],
      "source": [
        "a=input(\"write any number: \")\n",
        "print(a)\n",
        "type(a)    # give string output"
      ]
    },
    {
      "cell_type": "markdown",
      "metadata": {
        "id": "CgQVmflKqmTm"
      },
      "source": [
        "# **List**"
      ]
    },
    {
      "cell_type": "code",
      "execution_count": null,
      "metadata": {
        "colab": {
          "base_uri": "https://localhost:8080/"
        },
        "id": "J8c1StjjplyE",
        "outputId": "3730e21e-7868-488a-9898-b8374d8eaf12"
      },
      "outputs": [
        {
          "output_type": "stream",
          "name": "stdout",
          "text": [
            "[12, 32, 'book']\n"
          ]
        }
      ],
      "source": [
        "a=[12,32,\"book\"] # bunch of values in a single variable, it is mutable and changeable\n",
        "print(a)"
      ]
    },
    {
      "cell_type": "code",
      "execution_count": null,
      "metadata": {
        "colab": {
          "base_uri": "https://localhost:8080/"
        },
        "id": "QUciU2xNtrbh",
        "outputId": "9766038c-9d37-4feb-baf4-3f3c558b652b"
      },
      "outputs": [
        {
          "output_type": "execute_result",
          "data": {
            "text/plain": [
              "32"
            ]
          },
          "metadata": {},
          "execution_count": 49
        }
      ],
      "source": [
        "a[1] # access value from the list"
      ]
    },
    {
      "cell_type": "code",
      "execution_count": null,
      "metadata": {
        "colab": {
          "base_uri": "https://localhost:8080/"
        },
        "id": "3trRdob6uHu6",
        "outputId": "b1ceaff4-9f62-47f8-89ce-d3a86387d3f3"
      },
      "outputs": [
        {
          "output_type": "execute_result",
          "data": {
            "text/plain": [
              "3"
            ]
          },
          "metadata": {},
          "execution_count": 50
        }
      ],
      "source": [
        "len(a) # to check the memberse or values"
      ]
    },
    {
      "cell_type": "markdown",
      "metadata": {
        "id": "Qg2FCnqNu-GQ"
      },
      "source": [
        "### Adding a member to list"
      ]
    },
    {
      "cell_type": "code",
      "execution_count": null,
      "metadata": {
        "colab": {
          "base_uri": "https://localhost:8080/"
        },
        "id": "BI8RFIYHuQcg",
        "outputId": "d9b20e45-ad5e-40a0-950b-f5ac1e2e260e"
      },
      "outputs": [
        {
          "output_type": "execute_result",
          "data": {
            "text/plain": [
              "['apple']"
            ]
          },
          "metadata": {},
          "execution_count": 79
        }
      ],
      "source": [
        "listOfFruits=[]\n",
        "listOfFruits.append(\"apple\")# append add members in the end\n",
        "listOfFruits"
      ]
    },
    {
      "cell_type": "code",
      "execution_count": null,
      "metadata": {
        "colab": {
          "base_uri": "https://localhost:8080/"
        },
        "id": "vmMDhLcGucIp",
        "outputId": "d14c6a4b-d214-4022-a909-ae9bd76a1099"
      },
      "outputs": [
        {
          "output_type": "execute_result",
          "data": {
            "text/plain": [
              "['mango', 'apple']"
            ]
          },
          "metadata": {},
          "execution_count": 80
        }
      ],
      "source": [
        "listOfFruits.insert(0,\"mango\") #add member in the list, also need index value (where to insert the member in the list)\n",
        "listOfFruits"
      ]
    },
    {
      "cell_type": "code",
      "execution_count": null,
      "metadata": {
        "colab": {
          "base_uri": "https://localhost:8080/"
        },
        "id": "xh_zDs67vT3Y",
        "outputId": "bed5a544-c127-4e25-cccc-b74dd10d924f"
      },
      "outputs": [
        {
          "output_type": "execute_result",
          "data": {
            "text/plain": [
              "['mango', 'apple', 'banana', 'cherry', 'banana']"
            ]
          },
          "metadata": {},
          "execution_count": 81
        }
      ],
      "source": [
        "listOfFruits.extend([\"banana\",\"cherry\",\"banana\"]) # work same like append but it add more then one value. append can add only one value\n",
        "listOfFruits\n"
      ]
    },
    {
      "cell_type": "code",
      "execution_count": null,
      "metadata": {
        "colab": {
          "base_uri": "https://localhost:8080/"
        },
        "id": "fREscotPxheQ",
        "outputId": "91413cc2-a5e5-4ba3-cabd-c4a7c644d598"
      },
      "outputs": [
        {
          "output_type": "execute_result",
          "data": {
            "text/plain": [
              "2"
            ]
          },
          "metadata": {},
          "execution_count": 82
        }
      ],
      "source": [
        "listOfFruits.count(\"banana\") #count he accurance of the value"
      ]
    },
    {
      "cell_type": "markdown",
      "source": [
        "### searching/finding value from list"
      ],
      "metadata": {
        "id": "sbxHSqDBPcOK"
      }
    },
    {
      "cell_type": "code",
      "execution_count": null,
      "metadata": {
        "colab": {
          "base_uri": "https://localhost:8080/"
        },
        "id": "e-7dXiC4yMTz",
        "outputId": "617b290d-119b-4a39-89e1-67be3b2a62b0"
      },
      "outputs": [
        {
          "output_type": "stream",
          "name": "stdout",
          "text": [
            "3\n",
            "True\n"
          ]
        }
      ],
      "source": [
        "print(listOfFruits.index(\"cherry\")) #return the index of value\n",
        "\n",
        "print(\"cherry\" in listOfFruits) #it return boolean value"
      ]
    },
    {
      "cell_type": "code",
      "execution_count": null,
      "metadata": {
        "colab": {
          "base_uri": "https://localhost:8080/"
        },
        "id": "uHrLN3zIzBCY",
        "outputId": "cced534c-47f2-4aa2-e6d0-1e7e21c08996"
      },
      "outputs": [
        {
          "output_type": "execute_result",
          "data": {
            "text/plain": [
              "[]"
            ]
          },
          "metadata": {},
          "execution_count": 56
        }
      ],
      "source": [
        "listOfFruits.clear() #Remove all items from list\n",
        "listOfFruits"
      ]
    },
    {
      "cell_type": "code",
      "execution_count": null,
      "metadata": {
        "colab": {
          "base_uri": "https://localhost:8080/"
        },
        "id": "19TY_Bss0qRZ",
        "outputId": "b82548a4-5c2a-4925-b1ad-eb9fce582d8f"
      },
      "outputs": [
        {
          "output_type": "execute_result",
          "data": {
            "text/plain": [
              "['banana', 'cherry', 'banana']"
            ]
          },
          "metadata": {},
          "execution_count": 57
        }
      ],
      "source": [
        "fruitsA=[\"banana\",\"cherry\",\"banana\"]\n",
        "fruitsA"
      ]
    },
    {
      "cell_type": "code",
      "execution_count": null,
      "metadata": {
        "colab": {
          "base_uri": "https://localhost:8080/"
        },
        "id": "fad0o44h03Xk",
        "outputId": "839c4ab3-52d0-4097-86db-e3573aaa319e"
      },
      "outputs": [
        {
          "output_type": "execute_result",
          "data": {
            "text/plain": [
              "['banana', 'cherry', 'banana']"
            ]
          },
          "metadata": {},
          "execution_count": 58
        }
      ],
      "source": [
        "fruitsB=fruitsA.copy()    #copy by value (changing in a new list will not affect on origional list)\n",
        "fruitsB"
      ]
    },
    {
      "cell_type": "code",
      "execution_count": null,
      "metadata": {
        "colab": {
          "base_uri": "https://localhost:8080/"
        },
        "id": "2pIX29f6291w",
        "outputId": "761fd9a3-adcf-4488-a3e9-8ac4c26d60bc"
      },
      "outputs": [
        {
          "output_type": "stream",
          "name": "stdout",
          "text": [
            "['banana', 'cherry', 'banana', 'newfruit']\n",
            "['banana', 'cherry', 'banana']\n"
          ]
        }
      ],
      "source": [
        "fruitsB.append(\"newfruit\")\n",
        "print(fruitsB)\n",
        "print(fruitsA)"
      ]
    },
    {
      "cell_type": "code",
      "execution_count": null,
      "metadata": {
        "id": "HrCbtoGh3Mc0",
        "colab": {
          "base_uri": "https://localhost:8080/"
        },
        "outputId": "09bac39f-d4e9-49dd-d045-f87adc7180dc"
      },
      "outputs": [
        {
          "output_type": "execute_result",
          "data": {
            "text/plain": [
              "['banana', 'cherry', 'banana', 'newXfruit']"
            ]
          },
          "metadata": {},
          "execution_count": 60
        }
      ],
      "source": [
        "fruitsC=fruitsA\n",
        "fruitsC.append(\"newXfruit\")  #copy by reference(changing in a new list will  affect on origional list)\n",
        "fruitsA"
      ]
    },
    {
      "cell_type": "markdown",
      "source": [
        "### remove value from list {del, remove}"
      ],
      "metadata": {
        "id": "CsseDygtFPuP"
      }
    },
    {
      "cell_type": "code",
      "source": [
        "del fruitsA[0] # remove by index\n",
        "fruitsA"
      ],
      "metadata": {
        "colab": {
          "base_uri": "https://localhost:8080/"
        },
        "id": "yAHIyUtrEyLy",
        "outputId": "b8707e31-ee70-4acd-a171-83729da4cc5b"
      },
      "execution_count": null,
      "outputs": [
        {
          "output_type": "execute_result",
          "data": {
            "text/plain": [
              "['cherry', 'banana', 'newXfruit']"
            ]
          },
          "metadata": {},
          "execution_count": 61
        }
      ]
    },
    {
      "cell_type": "code",
      "source": [
        "fruitsA.remove(\"newXfruit\")\n",
        "fruitsA  # remove by value name"
      ],
      "metadata": {
        "colab": {
          "base_uri": "https://localhost:8080/"
        },
        "id": "1GU7er5vFp58",
        "outputId": "240d7e54-f62d-4c6e-e0a3-2b5bb0e1eea7"
      },
      "execution_count": null,
      "outputs": [
        {
          "output_type": "execute_result",
          "data": {
            "text/plain": [
              "['cherry', 'banana']"
            ]
          },
          "metadata": {},
          "execution_count": 63
        }
      ]
    },
    {
      "cell_type": "code",
      "source": [
        "cities=[\"khi\",\"lahor\",\"multan\",\"quetta\"]"
      ],
      "metadata": {
        "id": "xTRjmrx5F_D5"
      },
      "execution_count": null,
      "outputs": []
    },
    {
      "cell_type": "markdown",
      "source": [
        "###pop\n"
      ],
      "metadata": {
        "id": "ivoxDeMjHD0A"
      }
    },
    {
      "cell_type": "code",
      "source": [
        "popcities=cities.pop()\n",
        "print(f\"this city is pop from list: {popcities}\")  # bydefault pop remove value from the end of list\n",
        "print(f\"this cities are remaining in the list: {cities}\")\n"
      ],
      "metadata": {
        "colab": {
          "base_uri": "https://localhost:8080/"
        },
        "id": "lxEWvk5dG_F1",
        "outputId": "159c118e-f9e0-453c-ceb6-41bb16bb17ba"
      },
      "execution_count": null,
      "outputs": [
        {
          "output_type": "stream",
          "name": "stdout",
          "text": [
            "this city is pop from list: quetta\n",
            "this cities are remaining in the list: ['khi', 'lahor', 'multan']\n"
          ]
        }
      ]
    },
    {
      "cell_type": "code",
      "source": [
        "popbyindex=cities.pop(0)\n",
        "print(f\"this city is pop from list: {popbyindex}\")  # we can pop value using index also and return it\n",
        "print(f\"this cities are remaining in the list: {cities}\")"
      ],
      "metadata": {
        "colab": {
          "base_uri": "https://localhost:8080/"
        },
        "id": "9ZsVobjeHpbr",
        "outputId": "ed3cd4f1-26ae-436e-b6d2-06a0b2ec6c20"
      },
      "execution_count": null,
      "outputs": [
        {
          "output_type": "stream",
          "name": "stdout",
          "text": [
            "this city is pop from list: khi\n",
            "this cities are remaining in the list: ['lahor', 'multan']\n"
          ]
        }
      ]
    },
    {
      "cell_type": "code",
      "source": [
        "cities.sort() #sort in assending order\n",
        "cities"
      ],
      "metadata": {
        "colab": {
          "base_uri": "https://localhost:8080/"
        },
        "id": "Dcr-78NnIDbE",
        "outputId": "05521f47-1d26-4a7c-deb3-5e34a0c190a7"
      },
      "execution_count": null,
      "outputs": [
        {
          "output_type": "execute_result",
          "data": {
            "text/plain": [
              "['lahor', 'multan']"
            ]
          },
          "metadata": {},
          "execution_count": 70
        }
      ]
    },
    {
      "cell_type": "code",
      "source": [
        "cities.sort(reverse=True)\n",
        "cities"
      ],
      "metadata": {
        "colab": {
          "base_uri": "https://localhost:8080/"
        },
        "id": "Q0Ev-jSNI1rI",
        "outputId": "f8cf7c9e-329a-4eb7-8963-e9dab93ce079"
      },
      "execution_count": null,
      "outputs": [
        {
          "output_type": "execute_result",
          "data": {
            "text/plain": [
              "['multan', 'lahor']"
            ]
          },
          "metadata": {},
          "execution_count": 75
        }
      ]
    },
    {
      "cell_type": "code",
      "source": [
        "cities.reverse() #just reverse the value from the list\n",
        "cities"
      ],
      "metadata": {
        "colab": {
          "base_uri": "https://localhost:8080/"
        },
        "id": "LvF9alGmJDNJ",
        "outputId": "c2356d80-5a9f-4edb-bb27-4d99b032061d"
      },
      "execution_count": null,
      "outputs": [
        {
          "output_type": "execute_result",
          "data": {
            "text/plain": [
              "['multan', 'lahor']"
            ]
          },
          "metadata": {},
          "execution_count": 77
        }
      ]
    },
    {
      "cell_type": "markdown",
      "source": [
        "# slicing"
      ],
      "metadata": {
        "id": "KGjvcpLDPuj5"
      }
    },
    {
      "cell_type": "code",
      "source": [
        "students=[\"name1\",\"name2\",\"name3\",\"name4\"]"
      ],
      "metadata": {
        "id": "d_UJMqebJeRi"
      },
      "execution_count": null,
      "outputs": []
    },
    {
      "cell_type": "code",
      "source": [
        "students[1:3] #here 1 is inclusive and 3 is exclusive"
      ],
      "metadata": {
        "colab": {
          "base_uri": "https://localhost:8080/"
        },
        "id": "3-qxAy4mQSGw",
        "outputId": "532196f1-f6aa-4767-fc75-dd2616e06409"
      },
      "execution_count": null,
      "outputs": [
        {
          "output_type": "execute_result",
          "data": {
            "text/plain": [
              "['name2', 'name3']"
            ]
          },
          "metadata": {},
          "execution_count": 88
        }
      ]
    },
    {
      "cell_type": "code",
      "source": [
        "students[-2] #is called negative indexing"
      ],
      "metadata": {
        "colab": {
          "base_uri": "https://localhost:8080/",
          "height": 36
        },
        "id": "0YGcMONkQYiG",
        "outputId": "c8d485fb-35be-458a-840d-a95198300df1"
      },
      "execution_count": null,
      "outputs": [
        {
          "output_type": "execute_result",
          "data": {
            "text/plain": [
              "'name3'"
            ],
            "application/vnd.google.colaboratory.intrinsic+json": {
              "type": "string"
            }
          },
          "metadata": {},
          "execution_count": 92
        }
      ]
    },
    {
      "cell_type": "code",
      "source": [
        "students[-4:-1]"
      ],
      "metadata": {
        "colab": {
          "base_uri": "https://localhost:8080/"
        },
        "id": "B9C5brPHRDc1",
        "outputId": "cd48ac85-cd84-436a-ada8-eec96ec8f0c0"
      },
      "execution_count": null,
      "outputs": [
        {
          "output_type": "execute_result",
          "data": {
            "text/plain": [
              "['name1', 'name2', 'name3']"
            ]
          },
          "metadata": {},
          "execution_count": 96
        }
      ]
    },
    {
      "cell_type": "code",
      "source": [
        "students[:]"
      ],
      "metadata": {
        "colab": {
          "base_uri": "https://localhost:8080/"
        },
        "id": "D1zIm9ugR8JO",
        "outputId": "60da8ae1-83bd-429e-d7f9-05f7269f8907"
      },
      "execution_count": null,
      "outputs": [
        {
          "output_type": "execute_result",
          "data": {
            "text/plain": [
              "['name1', 'name2', 'name3', 'name4']"
            ]
          },
          "metadata": {},
          "execution_count": 97
        }
      ]
    },
    {
      "cell_type": "code",
      "source": [
        "students[1:]"
      ],
      "metadata": {
        "colab": {
          "base_uri": "https://localhost:8080/"
        },
        "id": "Nnsja0b-ST0y",
        "outputId": "8b0fe6de-cd90-41cb-ad9b-3bd753c63332"
      },
      "execution_count": null,
      "outputs": [
        {
          "output_type": "execute_result",
          "data": {
            "text/plain": [
              "['name2', 'name3', 'name4']"
            ]
          },
          "metadata": {},
          "execution_count": 99
        }
      ]
    },
    {
      "cell_type": "code",
      "source": [
        "students[:-1]"
      ],
      "metadata": {
        "colab": {
          "base_uri": "https://localhost:8080/"
        },
        "id": "gmlkcWAHSWuO",
        "outputId": "040a0a7f-3e18-425b-b719-6b45b61f8203"
      },
      "execution_count": null,
      "outputs": [
        {
          "output_type": "execute_result",
          "data": {
            "text/plain": [
              "['name1', 'name2', 'name3']"
            ]
          },
          "metadata": {},
          "execution_count": 100
        }
      ]
    },
    {
      "cell_type": "code",
      "source": [
        "students[2:-3]  #it give empty list bcause it always run left to right"
      ],
      "metadata": {
        "colab": {
          "base_uri": "https://localhost:8080/"
        },
        "id": "QfoOlaN7SiSB",
        "outputId": "e5937cdb-8bf5-4bfd-ac5c-348b9b0b7b41"
      },
      "execution_count": null,
      "outputs": [
        {
          "output_type": "execute_result",
          "data": {
            "text/plain": [
              "[]"
            ]
          },
          "metadata": {},
          "execution_count": 102
        }
      ]
    },
    {
      "cell_type": "code",
      "source": [
        "numbers=[1,2,3,4,5,6,7,8,9,10,11,12]"
      ],
      "metadata": {
        "id": "L6JZ9oG3S5B8"
      },
      "execution_count": null,
      "outputs": []
    },
    {
      "cell_type": "code",
      "source": [
        "numbers[0:12:2] #here 2 is step"
      ],
      "metadata": {
        "colab": {
          "base_uri": "https://localhost:8080/"
        },
        "id": "jr8569-jTior",
        "outputId": "b8591237-2a12-46e0-fa8f-1c4ef7d672e9"
      },
      "execution_count": null,
      "outputs": [
        {
          "output_type": "execute_result",
          "data": {
            "text/plain": [
              "[1, 3, 5, 7, 9, 11]"
            ]
          },
          "metadata": {},
          "execution_count": 105
        }
      ]
    },
    {
      "cell_type": "markdown",
      "source": [
        "# **Touple**"
      ],
      "metadata": {
        "id": "oPGc8qJ-UWDk"
      }
    },
    {
      "cell_type": "markdown",
      "source": [
        "###Touple are just like list but only difference is touples are immutable. you can not add, delete or change the elements after creation of touple instance. we can just use it"
      ],
      "metadata": {
        "id": "jBWalJEEUqHj"
      }
    },
    {
      "cell_type": "code",
      "source": [
        "Atuple=(\"hashim\",100,\"raza\")"
      ],
      "metadata": {
        "id": "E4h37PzxTvB7"
      },
      "execution_count": null,
      "outputs": []
    },
    {
      "cell_type": "code",
      "source": [
        "Atuple[1]\n",
        "# del Atuple[2] it will not delete the value of tuple"
      ],
      "metadata": {
        "colab": {
          "base_uri": "https://localhost:8080/"
        },
        "id": "TYYXOOILVkOC",
        "outputId": "649ad292-01d5-42e8-94ed-77058cb27686"
      },
      "execution_count": null,
      "outputs": [
        {
          "output_type": "execute_result",
          "data": {
            "text/plain": [
              "100"
            ]
          },
          "metadata": {},
          "execution_count": 114
        }
      ]
    },
    {
      "cell_type": "code",
      "source": [
        "Atuple.index(\"raza\")"
      ],
      "metadata": {
        "colab": {
          "base_uri": "https://localhost:8080/"
        },
        "id": "HDwXEgyFWHAV",
        "outputId": "e2f618ac-11bb-4029-fe98-7a2864587496"
      },
      "execution_count": null,
      "outputs": [
        {
          "output_type": "execute_result",
          "data": {
            "text/plain": [
              "2"
            ]
          },
          "metadata": {},
          "execution_count": 115
        }
      ]
    },
    {
      "cell_type": "code",
      "source": [
        "Atuple.count(\"hashim\")"
      ],
      "metadata": {
        "colab": {
          "base_uri": "https://localhost:8080/"
        },
        "id": "dSIS_D4JWfGF",
        "outputId": "9472a0e5-609a-4953-a98b-9372496e2823"
      },
      "execution_count": null,
      "outputs": [
        {
          "output_type": "execute_result",
          "data": {
            "text/plain": [
              "1"
            ]
          },
          "metadata": {},
          "execution_count": 116
        }
      ]
    },
    {
      "cell_type": "code",
      "source": [
        "len(Atuple)"
      ],
      "metadata": {
        "colab": {
          "base_uri": "https://localhost:8080/"
        },
        "id": "Ro6icPbNWsZK",
        "outputId": "564049cc-3360-46df-b6c2-f5b2c3a959cd"
      },
      "execution_count": null,
      "outputs": [
        {
          "output_type": "execute_result",
          "data": {
            "text/plain": [
              "3"
            ]
          },
          "metadata": {},
          "execution_count": 117
        }
      ]
    },
    {
      "cell_type": "code",
      "source": [
        "a=12,32,\"ali\" # we can also make tuple like this"
      ],
      "metadata": {
        "id": "eH0kgXXUXAki"
      },
      "execution_count": null,
      "outputs": []
    },
    {
      "cell_type": "code",
      "source": [
        "a"
      ],
      "metadata": {
        "colab": {
          "base_uri": "https://localhost:8080/"
        },
        "id": "EH_usDl3XXR7",
        "outputId": "ab7a3fcc-7be5-4af3-efd0-87e129c0a65f"
      },
      "execution_count": null,
      "outputs": [
        {
          "output_type": "execute_result",
          "data": {
            "text/plain": [
              "(12, 32, 'ali')"
            ]
          },
          "metadata": {},
          "execution_count": 122
        }
      ]
    },
    {
      "cell_type": "markdown",
      "source": [
        "# **For loops**"
      ],
      "metadata": {
        "id": "PVataJAbp-7K"
      }
    },
    {
      "cell_type": "code",
      "source": [],
      "metadata": {
        "id": "-vjqqWQ1qFcl"
      },
      "execution_count": 1,
      "outputs": []
    },
    {
      "cell_type": "markdown",
      "source": [
        "### There are two loops in python for loops and while loops\n",
        "\n",
        "\n",
        "*   use for repeted task\n",
        "\n",
        "\n"
      ],
      "metadata": {
        "id": "PC7AOfkeqWyq"
      }
    },
    {
      "cell_type": "code",
      "source": [
        "for a in range(5):\n",
        "  print(a, \"pak\")"
      ],
      "metadata": {
        "colab": {
          "base_uri": "https://localhost:8080/"
        },
        "id": "dHHyAb3FqVNN",
        "outputId": "24725b3f-def7-4abe-f650-24be0065eeea"
      },
      "execution_count": 5,
      "outputs": [
        {
          "output_type": "stream",
          "name": "stdout",
          "text": [
            "0 pak\n",
            "1 pak\n",
            "2 pak\n",
            "3 pak\n",
            "4 pak\n"
          ]
        }
      ]
    },
    {
      "cell_type": "code",
      "source": [
        "for a in range(2,10):\n",
        "  print(a)"
      ],
      "metadata": {
        "colab": {
          "base_uri": "https://localhost:8080/"
        },
        "id": "lYSDsWz8rFVh",
        "outputId": "22ceffc9-b016-467c-a215-3a1a951b8275"
      },
      "execution_count": 6,
      "outputs": [
        {
          "output_type": "stream",
          "name": "stdout",
          "text": [
            "2\n",
            "3\n",
            "4\n",
            "5\n",
            "6\n",
            "7\n",
            "8\n",
            "9\n"
          ]
        }
      ]
    },
    {
      "cell_type": "code",
      "source": [
        "for a in range(2,10,2):\n",
        "  print(a)"
      ],
      "metadata": {
        "colab": {
          "base_uri": "https://localhost:8080/"
        },
        "id": "PCSJoiQuru0l",
        "outputId": "f573f12a-0457-4a50-ab79-f567a208c374"
      },
      "execution_count": 7,
      "outputs": [
        {
          "output_type": "stream",
          "name": "stdout",
          "text": [
            "2\n",
            "4\n",
            "6\n",
            "8\n"
          ]
        }
      ]
    },
    {
      "cell_type": "code",
      "source": [
        "for a in range(10,0,-2):\n",
        "  print(a)"
      ],
      "metadata": {
        "colab": {
          "base_uri": "https://localhost:8080/"
        },
        "id": "E9413sBurzFs",
        "outputId": "1be75481-c796-4d1b-88a3-c3fa9bcbb95e"
      },
      "execution_count": 8,
      "outputs": [
        {
          "output_type": "stream",
          "name": "stdout",
          "text": [
            "10\n",
            "8\n",
            "6\n",
            "4\n",
            "2\n"
          ]
        }
      ]
    },
    {
      "cell_type": "code",
      "source": [
        "cities=[\"khi\",\"lahor\",\"multan\",\"quetta\"]\n",
        "for city in cities:\n",
        "  print(city)"
      ],
      "metadata": {
        "colab": {
          "base_uri": "https://localhost:8080/"
        },
        "id": "12QzHY2dr3qn",
        "outputId": "c5d24eef-8d86-4b7f-f3a8-8b3997f5cb10"
      },
      "execution_count": 10,
      "outputs": [
        {
          "output_type": "stream",
          "name": "stdout",
          "text": [
            "khi\n",
            "lahor\n",
            "multan\n",
            "quetta\n"
          ]
        }
      ]
    },
    {
      "cell_type": "code",
      "source": [
        "for num in [12,32,43,54,64,5,\"apple\"]:\n",
        "  print(num)"
      ],
      "metadata": {
        "colab": {
          "base_uri": "https://localhost:8080/"
        },
        "id": "KEYyLvd0sSby",
        "outputId": "b46ca4ce-a999-4ec7-a32c-6241d4ea7ea4"
      },
      "execution_count": 11,
      "outputs": [
        {
          "output_type": "stream",
          "name": "stdout",
          "text": [
            "12\n",
            "32\n",
            "43\n",
            "54\n",
            "64\n",
            "5\n",
            "apple\n"
          ]
        }
      ]
    },
    {
      "cell_type": "code",
      "source": [
        "name=\"pakistan\"\n",
        "for char in name:\n",
        "  print(char)\n"
      ],
      "metadata": {
        "colab": {
          "base_uri": "https://localhost:8080/"
        },
        "id": "Y-EHKP5bsmK3",
        "outputId": "4d87dab8-8eaa-47f9-87fe-217b66e8e0af"
      },
      "execution_count": 12,
      "outputs": [
        {
          "output_type": "stream",
          "name": "stdout",
          "text": [
            "p\n",
            "a\n",
            "k\n",
            "i\n",
            "s\n",
            "t\n",
            "a\n",
            "n\n"
          ]
        }
      ]
    },
    {
      "cell_type": "code",
      "source": [
        "name=\"pakistan\",\"iran\"\n",
        "for char in name:\n",
        "  print(char)\n"
      ],
      "metadata": {
        "colab": {
          "base_uri": "https://localhost:8080/"
        },
        "id": "XrUCsmLns6P-",
        "outputId": "bdf47cd9-33d4-4a39-c9e0-73383f8f1e0e"
      },
      "execution_count": 13,
      "outputs": [
        {
          "output_type": "stream",
          "name": "stdout",
          "text": [
            "pakistan\n",
            "iran\n"
          ]
        }
      ]
    },
    {
      "cell_type": "markdown",
      "source": [
        "###**break and continue**"
      ],
      "metadata": {
        "id": "hs-PkR5tuSZC"
      }
    },
    {
      "cell_type": "code",
      "source": [
        "for a in range(0,10):\n",
        "  if a==6:          #it will break when a will be 6\n",
        "    break\n",
        "  print(a)"
      ],
      "metadata": {
        "colab": {
          "base_uri": "https://localhost:8080/"
        },
        "id": "f3JYjADFtDA_",
        "outputId": "f692896c-f28a-45ee-c856-aefe0c18d28e"
      },
      "execution_count": 14,
      "outputs": [
        {
          "output_type": "stream",
          "name": "stdout",
          "text": [
            "0\n",
            "1\n",
            "2\n",
            "3\n",
            "4\n",
            "5\n"
          ]
        }
      ]
    },
    {
      "cell_type": "code",
      "source": [
        "for a in range(0,10):\n",
        "  if a==5:    # here 5 will not be print\n",
        "    continue\n",
        "  print(a)"
      ],
      "metadata": {
        "colab": {
          "base_uri": "https://localhost:8080/"
        },
        "id": "qFKx8bH1utkt",
        "outputId": "bc77eb3e-7e3c-40b7-ea8e-efe39f4eebee"
      },
      "execution_count": 17,
      "outputs": [
        {
          "output_type": "stream",
          "name": "stdout",
          "text": [
            "0\n",
            "1\n",
            "2\n",
            "3\n",
            "4\n",
            "6\n",
            "7\n",
            "8\n",
            "9\n"
          ]
        }
      ]
    },
    {
      "cell_type": "markdown",
      "source": [
        "#**Nested for loop**"
      ],
      "metadata": {
        "id": "MQH2KS_gvf52"
      }
    },
    {
      "cell_type": "code",
      "source": [
        "for a in range(5):\n",
        "  print(\"inner loop begins\")\n",
        "  for char in \"china\":\n",
        "    print(a,char)"
      ],
      "metadata": {
        "colab": {
          "base_uri": "https://localhost:8080/"
        },
        "id": "C_M3EAxTvDjN",
        "outputId": "e0fdc836-bd21-4e61-9ee0-244de8baee85"
      },
      "execution_count": 23,
      "outputs": [
        {
          "output_type": "stream",
          "name": "stdout",
          "text": [
            "inner loop begins\n",
            "0 c\n",
            "0 h\n",
            "0 i\n",
            "0 n\n",
            "0 a\n",
            "inner loop begins\n",
            "1 c\n",
            "1 h\n",
            "1 i\n",
            "1 n\n",
            "1 a\n",
            "inner loop begins\n",
            "2 c\n",
            "2 h\n",
            "2 i\n",
            "2 n\n",
            "2 a\n",
            "inner loop begins\n",
            "3 c\n",
            "3 h\n",
            "3 i\n",
            "3 n\n",
            "3 a\n",
            "inner loop begins\n",
            "4 c\n",
            "4 h\n",
            "4 i\n",
            "4 n\n",
            "4 a\n"
          ]
        }
      ]
    },
    {
      "cell_type": "code",
      "source": [
        "table=int(input(\"input table number: \"))\n",
        "\n",
        "for a in range(11):\n",
        "  print(f\"{table} * {a} = {table*a}\")"
      ],
      "metadata": {
        "colab": {
          "base_uri": "https://localhost:8080/"
        },
        "id": "Y3swWvg2vcCo",
        "outputId": "dc6db6dd-1c87-40ef-c9b4-7d03462b66b1"
      },
      "execution_count": 27,
      "outputs": [
        {
          "output_type": "stream",
          "name": "stdout",
          "text": [
            "input table number: 2\n",
            "2 * 0 = 0\n",
            "2 * 1 = 2\n",
            "2 * 2 = 4\n",
            "2 * 3 = 6\n",
            "2 * 4 = 8\n",
            "2 * 5 = 10\n",
            "2 * 6 = 12\n",
            "2 * 7 = 14\n",
            "2 * 8 = 16\n",
            "2 * 9 = 18\n",
            "2 * 10 = 20\n"
          ]
        }
      ]
    },
    {
      "cell_type": "code",
      "source": [
        "tableRange=int(input(\"input table range\"))\n",
        "\n",
        "for a in range(2,tableRange+1):\n",
        "  for b in range(1,11):\n",
        "    print(f\"{a} * {b} ={a*b}\")\n"
      ],
      "metadata": {
        "colab": {
          "base_uri": "https://localhost:8080/"
        },
        "id": "fjml7klzy3m1",
        "outputId": "69a24ed2-4c1d-40da-ea90-60ac8420c58e"
      },
      "execution_count": 32,
      "outputs": [
        {
          "output_type": "stream",
          "name": "stdout",
          "text": [
            "input table range12\n",
            "2 * 1 =2\n",
            "2 * 2 =4\n",
            "2 * 3 =6\n",
            "2 * 4 =8\n",
            "2 * 5 =10\n",
            "2 * 6 =12\n",
            "2 * 7 =14\n",
            "2 * 8 =16\n",
            "2 * 9 =18\n",
            "2 * 10 =20\n",
            "3 * 1 =3\n",
            "3 * 2 =6\n",
            "3 * 3 =9\n",
            "3 * 4 =12\n",
            "3 * 5 =15\n",
            "3 * 6 =18\n",
            "3 * 7 =21\n",
            "3 * 8 =24\n",
            "3 * 9 =27\n",
            "3 * 10 =30\n",
            "4 * 1 =4\n",
            "4 * 2 =8\n",
            "4 * 3 =12\n",
            "4 * 4 =16\n",
            "4 * 5 =20\n",
            "4 * 6 =24\n",
            "4 * 7 =28\n",
            "4 * 8 =32\n",
            "4 * 9 =36\n",
            "4 * 10 =40\n",
            "5 * 1 =5\n",
            "5 * 2 =10\n",
            "5 * 3 =15\n",
            "5 * 4 =20\n",
            "5 * 5 =25\n",
            "5 * 6 =30\n",
            "5 * 7 =35\n",
            "5 * 8 =40\n",
            "5 * 9 =45\n",
            "5 * 10 =50\n",
            "6 * 1 =6\n",
            "6 * 2 =12\n",
            "6 * 3 =18\n",
            "6 * 4 =24\n",
            "6 * 5 =30\n",
            "6 * 6 =36\n",
            "6 * 7 =42\n",
            "6 * 8 =48\n",
            "6 * 9 =54\n",
            "6 * 10 =60\n",
            "7 * 1 =7\n",
            "7 * 2 =14\n",
            "7 * 3 =21\n",
            "7 * 4 =28\n",
            "7 * 5 =35\n",
            "7 * 6 =42\n",
            "7 * 7 =49\n",
            "7 * 8 =56\n",
            "7 * 9 =63\n",
            "7 * 10 =70\n",
            "8 * 1 =8\n",
            "8 * 2 =16\n",
            "8 * 3 =24\n",
            "8 * 4 =32\n",
            "8 * 5 =40\n",
            "8 * 6 =48\n",
            "8 * 7 =56\n",
            "8 * 8 =64\n",
            "8 * 9 =72\n",
            "8 * 10 =80\n",
            "9 * 1 =9\n",
            "9 * 2 =18\n",
            "9 * 3 =27\n",
            "9 * 4 =36\n",
            "9 * 5 =45\n",
            "9 * 6 =54\n",
            "9 * 7 =63\n",
            "9 * 8 =72\n",
            "9 * 9 =81\n",
            "9 * 10 =90\n",
            "10 * 1 =10\n",
            "10 * 2 =20\n",
            "10 * 3 =30\n",
            "10 * 4 =40\n",
            "10 * 5 =50\n",
            "10 * 6 =60\n",
            "10 * 7 =70\n",
            "10 * 8 =80\n",
            "10 * 9 =90\n",
            "10 * 10 =100\n",
            "11 * 1 =11\n",
            "11 * 2 =22\n",
            "11 * 3 =33\n",
            "11 * 4 =44\n",
            "11 * 5 =55\n",
            "11 * 6 =66\n",
            "11 * 7 =77\n",
            "11 * 8 =88\n",
            "11 * 9 =99\n",
            "11 * 10 =110\n",
            "12 * 1 =12\n",
            "12 * 2 =24\n",
            "12 * 3 =36\n",
            "12 * 4 =48\n",
            "12 * 5 =60\n",
            "12 * 6 =72\n",
            "12 * 7 =84\n",
            "12 * 8 =96\n",
            "12 * 9 =108\n",
            "12 * 10 =120\n"
          ]
        }
      ]
    },
    {
      "cell_type": "markdown",
      "source": [
        "#**Type casting**"
      ],
      "metadata": {
        "id": "C7XcEa700XhA"
      }
    },
    {
      "cell_type": "code",
      "source": [
        "number=float(input(\"enter number\"))\n",
        "type(number)"
      ],
      "metadata": {
        "colab": {
          "base_uri": "https://localhost:8080/"
        },
        "id": "8cDeThATzvWt",
        "outputId": "bfc88bf9-3f03-4866-fe7e-d1b673a9f131"
      },
      "execution_count": 35,
      "outputs": [
        {
          "name": "stdout",
          "output_type": "stream",
          "text": [
            "enter number5\n"
          ]
        },
        {
          "output_type": "execute_result",
          "data": {
            "text/plain": [
              "float"
            ]
          },
          "metadata": {},
          "execution_count": 35
        }
      ]
    },
    {
      "cell_type": "markdown",
      "source": [
        "#**Changing case of string**"
      ],
      "metadata": {
        "id": "1o6BJ6-G1ai3"
      }
    },
    {
      "cell_type": "code",
      "source": [
        "name=\"pakistan\"\n",
        "print(name.upper())\n",
        "print(name.lower())"
      ],
      "metadata": {
        "colab": {
          "base_uri": "https://localhost:8080/"
        },
        "id": "L3mhUzts1JJk",
        "outputId": "5dc55034-3f02-4d33-9767-acb9e7beea61"
      },
      "execution_count": 39,
      "outputs": [
        {
          "output_type": "stream",
          "name": "stdout",
          "text": [
            "PAKISTAN\n",
            "pakistan\n"
          ]
        }
      ]
    },
    {
      "cell_type": "markdown",
      "source": [
        "#**Dictionaries**\n",
        "\n",
        "\n",
        "*   key value pair\n",
        "*   data types of key can be string, int, float and data type of value can be string, int, float, list, dictionary\n",
        "\n",
        "\n",
        "*   dictName={key:value,key:value}\n",
        "\n",
        "\n",
        "\n"
      ],
      "metadata": {
        "id": "RDRmJIr22OrC"
      }
    },
    {
      "cell_type": "code",
      "source": [
        "myDict={\"name\":\"hashim\",\"age\":23,\"gender\":\"male\"}"
      ],
      "metadata": {
        "id": "TOeuENnW1tNV"
      },
      "execution_count": 44,
      "outputs": []
    },
    {
      "cell_type": "code",
      "source": [
        "len(myDict)"
      ],
      "metadata": {
        "colab": {
          "base_uri": "https://localhost:8080/"
        },
        "id": "FV-7_iSs4353",
        "outputId": "19027ac2-b256-4692-96aa-8def7b1d1049"
      },
      "execution_count": 48,
      "outputs": [
        {
          "output_type": "execute_result",
          "data": {
            "text/plain": [
              "4"
            ]
          },
          "metadata": {},
          "execution_count": 48
        }
      ]
    },
    {
      "cell_type": "markdown",
      "source": [
        "adding a new key ro existing dictionary"
      ],
      "metadata": {
        "id": "O_HizqYN4-fM"
      }
    },
    {
      "cell_type": "code",
      "source": [
        "myDict[\"email\"]=\"hashim@gmail.com\""
      ],
      "metadata": {
        "id": "pfkYvMrL48YY"
      },
      "execution_count": 46,
      "outputs": []
    },
    {
      "cell_type": "code",
      "source": [
        "myDict"
      ],
      "metadata": {
        "colab": {
          "base_uri": "https://localhost:8080/"
        },
        "id": "HM6DKOZ15RuN",
        "outputId": "a98665f0-32f5-4553-922a-bd397ab71817"
      },
      "execution_count": 47,
      "outputs": [
        {
          "output_type": "execute_result",
          "data": {
            "text/plain": [
              "{'name': 'hashim', 'age': 23, 'gender': 'male', 'email': 'hashim@gmail.com'}"
            ]
          },
          "metadata": {},
          "execution_count": 47
        }
      ]
    },
    {
      "cell_type": "markdown",
      "source": [
        "accessing info from dictionary"
      ],
      "metadata": {
        "id": "4YI8mvMI50ab"
      }
    },
    {
      "cell_type": "code",
      "source": [
        "myDict[\"name\"]"
      ],
      "metadata": {
        "colab": {
          "base_uri": "https://localhost:8080/",
          "height": 36
        },
        "id": "nJ24kW035UF_",
        "outputId": "4e7656b8-f0c4-48f8-89a6-349d8c44855d"
      },
      "execution_count": 50,
      "outputs": [
        {
          "output_type": "execute_result",
          "data": {
            "text/plain": [
              "'hashim'"
            ],
            "application/vnd.google.colaboratory.intrinsic+json": {
              "type": "string"
            }
          },
          "metadata": {},
          "execution_count": 50
        }
      ]
    },
    {
      "cell_type": "code",
      "source": [
        "newDic={1:\"ali\",2:\"raza\"} #key can be string or number\n",
        "print(newDic[1])\n",
        "print(newDic[2])"
      ],
      "metadata": {
        "colab": {
          "base_uri": "https://localhost:8080/"
        },
        "id": "edQPmYuK5_sy",
        "outputId": "70a9415e-3174-436c-aace-da1f3fd7d8c2"
      },
      "execution_count": 51,
      "outputs": [
        {
          "output_type": "stream",
          "name": "stdout",
          "text": [
            "ali\n",
            "raza\n"
          ]
        }
      ]
    },
    {
      "cell_type": "markdown",
      "source": [
        "# deleting a key"
      ],
      "metadata": {
        "id": "RUFEvspL7Qgx"
      }
    },
    {
      "cell_type": "code",
      "source": [
        "del newDic[1]\n",
        "newDic"
      ],
      "metadata": {
        "colab": {
          "base_uri": "https://localhost:8080/"
        },
        "id": "ochtxGxV7Fk9",
        "outputId": "53ed8cbc-3b43-4491-8924-d840ef69faab"
      },
      "execution_count": 52,
      "outputs": [
        {
          "output_type": "execute_result",
          "data": {
            "text/plain": [
              "{2: 'raza'}"
            ]
          },
          "metadata": {},
          "execution_count": 52
        }
      ]
    },
    {
      "cell_type": "markdown",
      "source": [
        "updating a new dictionary"
      ],
      "metadata": {
        "id": "y4UdREQW7jOD"
      }
    },
    {
      "cell_type": "code",
      "source": [
        "myDict[\"name\"]=\"ali\"\n",
        "myDict"
      ],
      "metadata": {
        "colab": {
          "base_uri": "https://localhost:8080/"
        },
        "id": "5Av4gsoh7eKc",
        "outputId": "358ee6b7-191b-4cf4-bbe5-50376c12efd9"
      },
      "execution_count": 53,
      "outputs": [
        {
          "output_type": "execute_result",
          "data": {
            "text/plain": [
              "{'name': 'ali', 'age': 23, 'gender': 'male', 'email': 'hashim@gmail.com'}"
            ]
          },
          "metadata": {},
          "execution_count": 53
        }
      ]
    },
    {
      "cell_type": "markdown",
      "source": [
        "value of same key will be over write"
      ],
      "metadata": {
        "id": "efOiS-IS7_SF"
      }
    },
    {
      "cell_type": "code",
      "source": [
        "newDicA={\"name\":\"hashim\",\"name\":\"ali\",\"class\":14}"
      ],
      "metadata": {
        "id": "aaTU9lIJ7xUG"
      },
      "execution_count": 54,
      "outputs": []
    },
    {
      "cell_type": "code",
      "source": [
        "newDicA"
      ],
      "metadata": {
        "colab": {
          "base_uri": "https://localhost:8080/"
        },
        "id": "EMa223Th8by8",
        "outputId": "e8005c14-91e1-4696-c53c-2e687859794d"
      },
      "execution_count": 55,
      "outputs": [
        {
          "output_type": "execute_result",
          "data": {
            "text/plain": [
              "{'name': 'ali', 'class': 14}"
            ]
          },
          "metadata": {},
          "execution_count": 55
        }
      ]
    },
    {
      "cell_type": "markdown",
      "source": [
        "to check key"
      ],
      "metadata": {
        "id": "J1am9BGy8qMk"
      }
    },
    {
      "cell_type": "code",
      "source": [
        "\"name\" in newDicA"
      ],
      "metadata": {
        "colab": {
          "base_uri": "https://localhost:8080/"
        },
        "id": "B9T8n-yU8eMh",
        "outputId": "faad6b13-a088-4106-c7c8-f65cbdea18ae"
      },
      "execution_count": 56,
      "outputs": [
        {
          "output_type": "execute_result",
          "data": {
            "text/plain": [
              "True"
            ]
          },
          "metadata": {},
          "execution_count": 56
        }
      ]
    },
    {
      "cell_type": "code",
      "source": [
        "pritn(\"ds\")"
      ],
      "metadata": {
        "id": "MCQ7ZylZBYmm"
      },
      "execution_count": null,
      "outputs": []
    }
  ],
  "metadata": {
    "accelerator": "GPU",
    "colab": {
      "provenance": [],
      "authorship_tag": "ABX9TyOXb78SeG0kugf+OKk+1g15",
      "include_colab_link": true
    },
    "kernelspec": {
      "display_name": "Python 3",
      "name": "python3"
    },
    "language_info": {
      "name": "python"
    }
  },
  "nbformat": 4,
  "nbformat_minor": 0
}